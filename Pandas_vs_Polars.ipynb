{
 "cells": [
  {
   "cell_type": "markdown",
   "id": "72792aeb-aca0-4514-a2cc-f801169521f2",
   "metadata": {},
   "source": [
    "## {insert names of team members}\n",
    "*\n",
    "*\n",
    "*"
   ]
  },
  {
   "cell_type": "code",
   "execution_count": 1,
   "id": "1d8a1682-9f9d-492a-84c6-64c28cc12228",
   "metadata": {},
   "outputs": [],
   "source": [
    "# !uv pip list"
   ]
  },
  {
   "cell_type": "code",
   "execution_count": 2,
   "id": "ac428d52-d40b-4b02-a01a-7114c1ec7c6b",
   "metadata": {},
   "outputs": [],
   "source": [
    "import os\n",
    "import pandas as pd\n",
    "import polars as pl\n",
    "import numpy as np\n",
    "import matplotlib.pyplot as plt\n",
    "import seaborn as sns\n",
    "from timeit import Timer"
   ]
  },
  {
   "cell_type": "code",
   "execution_count": 3,
   "id": "c6bde1fb-8cb3-409a-8153-91f0cbadbb49",
   "metadata": {},
   "outputs": [
    {
     "name": "stdout",
     "output_type": "stream",
     "text": [
      "8\n"
     ]
    }
   ],
   "source": [
    "num_cores = os.cpu_count()\n",
    "print(num_cores)"
   ]
  },
  {
   "cell_type": "markdown",
   "id": "9823d543-c9af-4d42-be0f-e36a91986267",
   "metadata": {},
   "source": [
    "# limit the total number of threads used with POLARS_MAX_THREADS\n",
    "#### first, start with the default (commented out)\n",
    "#### then, set it to 1"
   ]
  },
  {
   "cell_type": "code",
   "execution_count": 4,
   "id": "65a7bc6f-ef21-4603-af39-02081ea0fe70",
   "metadata": {},
   "outputs": [],
   "source": [
    "# os.environ['POLARS_MAX_THREADS'] = '1'  # kernel must be restarted to overwrite existing env variable"
   ]
  },
  {
   "cell_type": "code",
   "execution_count": 5,
   "id": "ae13b475-00db-472e-9a95-ba8be1b3600b",
   "metadata": {},
   "outputs": [
    {
     "name": "stdout",
     "output_type": "stream",
     "text": [
      "8\n"
     ]
    }
   ],
   "source": [
    "THREAD_COUNT = pl.thread_pool_size()\n",
    "print(THREAD_COUNT)"
   ]
  },
  {
   "cell_type": "markdown",
   "id": "4e5a3a05-ab4e-46eb-b767-7bfc49db7231",
   "metadata": {},
   "source": [
    "# Generate dummy data"
   ]
  },
  {
   "cell_type": "code",
   "execution_count": 6,
   "id": "d6b66d0c-b05f-4736-94c8-78028ecd839d",
   "metadata": {},
   "outputs": [],
   "source": [
    "def generate_data(number_of_rows):\n",
    "    rng = np.random.default_rng()\n",
    "\n",
    "    return {\n",
    "        \"region\": rng.choice(\n",
    "            [\"North\", \"South\", \"East\", \"West\"], size=number_of_rows\n",
    "        ),\n",
    "        \"sales_person\": rng.choice(\n",
    "            [\"Armstrong\", \"Aldrin\", \"Collins\"], size=number_of_rows\n",
    "        ),\n",
    "        \"product\": rng.choice(\n",
    "            [\"Helmet\", \"Oxygen\", \"Boots\", \"Gloves\"], size=number_of_rows\n",
    "        ),\n",
    "        \"sales_income\": rng.integers(1, 5001, size=number_of_rows),\n",
    "    }"
   ]
  },
  {
   "cell_type": "markdown",
   "id": "dd27937d-29b2-44ad-ae68-28d8b1d23878",
   "metadata": {},
   "source": [
    "# Define DataFrame Creation Functions"
   ]
  },
  {
   "cell_type": "code",
   "execution_count": 7,
   "id": "48f5c483-444f-4356-a7c1-59219633382a",
   "metadata": {},
   "outputs": [],
   "source": [
    "def create_pandas_dataframe(test_data):\n",
    "    return pd.DataFrame(test_data)\n",
    "\n",
    "def create_polars_dataframe(test_data):\n",
    "    return pl.DataFrame(test_data)\n",
    "\n",
    "def create_polars_lazyframe(test_data):\n",
    "    return pl.LazyFrame(test_data)"
   ]
  },
  {
   "cell_type": "markdown",
   "id": "efabf558-2fce-4c14-8758-f5d86083a0ce",
   "metadata": {},
   "source": [
    "# Display First 10 rows"
   ]
  },
  {
   "cell_type": "code",
   "execution_count": 8,
   "id": "51e3413c-5922-497b-9057-fc550ffb22d5",
   "metadata": {},
   "outputs": [
    {
     "data": {
      "text/html": [
       "<div>\n",
       "<style scoped>\n",
       "    .dataframe tbody tr th:only-of-type {\n",
       "        vertical-align: middle;\n",
       "    }\n",
       "\n",
       "    .dataframe tbody tr th {\n",
       "        vertical-align: top;\n",
       "    }\n",
       "\n",
       "    .dataframe thead th {\n",
       "        text-align: right;\n",
       "    }\n",
       "</style>\n",
       "<table border=\"1\" class=\"dataframe\">\n",
       "  <thead>\n",
       "    <tr style=\"text-align: right;\">\n",
       "      <th></th>\n",
       "      <th>region</th>\n",
       "      <th>sales_person</th>\n",
       "      <th>product</th>\n",
       "      <th>sales_income</th>\n",
       "    </tr>\n",
       "  </thead>\n",
       "  <tbody>\n",
       "    <tr>\n",
       "      <th>0</th>\n",
       "      <td>West</td>\n",
       "      <td>Collins</td>\n",
       "      <td>Helmet</td>\n",
       "      <td>3332</td>\n",
       "    </tr>\n",
       "    <tr>\n",
       "      <th>1</th>\n",
       "      <td>North</td>\n",
       "      <td>Collins</td>\n",
       "      <td>Oxygen</td>\n",
       "      <td>3455</td>\n",
       "    </tr>\n",
       "    <tr>\n",
       "      <th>2</th>\n",
       "      <td>East</td>\n",
       "      <td>Armstrong</td>\n",
       "      <td>Boots</td>\n",
       "      <td>2792</td>\n",
       "    </tr>\n",
       "    <tr>\n",
       "      <th>3</th>\n",
       "      <td>South</td>\n",
       "      <td>Aldrin</td>\n",
       "      <td>Oxygen</td>\n",
       "      <td>4174</td>\n",
       "    </tr>\n",
       "    <tr>\n",
       "      <th>4</th>\n",
       "      <td>South</td>\n",
       "      <td>Aldrin</td>\n",
       "      <td>Oxygen</td>\n",
       "      <td>363</td>\n",
       "    </tr>\n",
       "    <tr>\n",
       "      <th>5</th>\n",
       "      <td>South</td>\n",
       "      <td>Collins</td>\n",
       "      <td>Helmet</td>\n",
       "      <td>3224</td>\n",
       "    </tr>\n",
       "    <tr>\n",
       "      <th>6</th>\n",
       "      <td>North</td>\n",
       "      <td>Collins</td>\n",
       "      <td>Boots</td>\n",
       "      <td>93</td>\n",
       "    </tr>\n",
       "    <tr>\n",
       "      <th>7</th>\n",
       "      <td>West</td>\n",
       "      <td>Armstrong</td>\n",
       "      <td>Boots</td>\n",
       "      <td>4397</td>\n",
       "    </tr>\n",
       "    <tr>\n",
       "      <th>8</th>\n",
       "      <td>East</td>\n",
       "      <td>Collins</td>\n",
       "      <td>Boots</td>\n",
       "      <td>1174</td>\n",
       "    </tr>\n",
       "    <tr>\n",
       "      <th>9</th>\n",
       "      <td>South</td>\n",
       "      <td>Armstrong</td>\n",
       "      <td>Gloves</td>\n",
       "      <td>2105</td>\n",
       "    </tr>\n",
       "  </tbody>\n",
       "</table>\n",
       "</div>"
      ],
      "text/plain": [
       "  region sales_person product  sales_income\n",
       "0   West      Collins  Helmet          3332\n",
       "1  North      Collins  Oxygen          3455\n",
       "2   East    Armstrong   Boots          2792\n",
       "3  South       Aldrin  Oxygen          4174\n",
       "4  South       Aldrin  Oxygen           363\n",
       "5  South      Collins  Helmet          3224\n",
       "6  North      Collins   Boots            93\n",
       "7   West    Armstrong   Boots          4397\n",
       "8   East      Collins   Boots          1174\n",
       "9  South    Armstrong  Gloves          2105"
      ]
     },
     "execution_count": 8,
     "metadata": {},
     "output_type": "execute_result"
    }
   ],
   "source": [
    "display_data = generate_data(10)\n",
    "create_pandas_dataframe(display_data)"
   ]
  },
  {
   "cell_type": "markdown",
   "id": "28bc9b13-2308-490a-8078-ec784d91afa3",
   "metadata": {},
   "source": [
    "# Define groupby & agg functions (can be parallelized)"
   ]
  },
  {
   "cell_type": "code",
   "execution_count": 9,
   "id": "f17a66a9-f362-4891-aeaa-cd9a3bb7cfce",
   "metadata": {},
   "outputs": [],
   "source": [
    "def groupby_pandas_dataframe(pandas_df):\n",
    "    return pandas_df.groupby([\"region\", \"product\", \"sales_person\"])[\n",
    "        \"sales_income\"\n",
    "    ].sum()\n",
    "\n",
    "def groupby_polars_dataframe(polars_df):\n",
    "    return polars_df.group_by([\"region\", \"product\", \"sales_person\"]).agg(\n",
    "        total_sales=pl.col(\"sales_income\").sum()\n",
    "    )\n",
    "\n",
    "def groupby_polars_lazyframe(polars_lf):\n",
    "    return polars_lf.group_by([\"region\", \"product\", \"sales_person\"]).agg(\n",
    "        total_sales=pl.col(\"sales_income\").sum()\n",
    "    ).collect()"
   ]
  },
  {
   "cell_type": "markdown",
   "id": "da7211ba-0458-49e5-a3df-e91693560ab3",
   "metadata": {},
   "source": [
    "## Insert a new operation to benchmark that can either:\n",
    "### * also be parallelized (left size of classroom when facing front)\n",
    "### * not be parallelized (right size of classroom when facing front)"
   ]
  },
  {
   "cell_type": "code",
   "execution_count": 10,
   "id": "3b3f3275-d4e4-42dd-b6a3-85588bf79456",
   "metadata": {},
   "outputs": [],
   "source": [
    "# your code here"
   ]
  },
  {
   "cell_type": "markdown",
   "id": "4a435295-13f7-4f2f-96be-1609f22d0512",
   "metadata": {},
   "source": [
    "# Run Benchmarking "
   ]
  },
  {
   "cell_type": "code",
   "execution_count": 11,
   "id": "d1f0eeb0-d4f7-4e1d-a3f4-cdc6d9d145cd",
   "metadata": {},
   "outputs": [
    {
     "name": "stdout",
     "output_type": "stream",
     "text": [
      "Starting benchmark...\n",
      "Benchmarking with 100,000 rows...\n",
      "Pandas DataFrame size: 3.05 MB\n",
      "Polars Eager DataFrame size: 2.44 MB\n",
      "-----------\n",
      "Benchmarking with 1,000,000 rows...\n",
      "Pandas DataFrame size: 30.52 MB\n",
      "Polars Eager DataFrame size: 24.40 MB\n",
      "-----------\n",
      "Benchmarking with 10,000,000 rows...\n",
      "Pandas DataFrame size: 305.18 MB\n",
      "Polars Eager DataFrame size: 243.98 MB\n",
      "-----------\n",
      "Benchmark finished.\n"
     ]
    }
   ],
   "source": [
    "# --- Benchmarking Loop ---\n",
    "row_counts = [100_000, 1_000_000, 10_000_000]\n",
    "results = []\n",
    "n_runs = 10  # Number of times to repeat the timing for a stable average\n",
    "\n",
    "print(\"Starting benchmark...\")\n",
    "for rows in row_counts:\n",
    "    print(f\"Benchmarking with {rows:,} rows...\")\n",
    "    test_data = generate_data(rows)\n",
    "\n",
    "    # --- Pandas Benchmark ---\n",
    "    pandas_df = pd.DataFrame(test_data)\n",
    "    size_bytes = pandas_df.memory_usage(index=True).sum()\n",
    "    size_mb = size_bytes / (1024 ** 2)\n",
    "    print(f\"Pandas DataFrame size: {size_mb:.2f} MB\")\n",
    "    \n",
    "    pandas_groupby_time = np.mean(Timer(lambda: groupby_pandas_dataframe(pandas_df)).repeat(repeat=n_runs, number=1))\n",
    "    results.append({\"Library\": \"Pandas\", \"Operation\": \"GroupBy\", \"Rows\": rows, \"MeanTime\": pandas_groupby_time})\n",
    "\n",
    "    # add code to call new operation here\n",
    "    \n",
    "    # --- Polars Eager Benchmark ---\n",
    "    polars_df = pl.DataFrame(test_data)\n",
    "    size_bytes = polars_df.estimated_size()\n",
    "    size_mb = size_bytes / (1024 ** 2)\n",
    "    print(f\"Polars Eager DataFrame size: {size_mb:.2f} MB\")\n",
    "    \n",
    "    polars_eager_groupby_time = np.mean(Timer(lambda: groupby_polars_dataframe(polars_df)).repeat(repeat=n_runs, number=1))\n",
    "    results.append({\"Library\": \"Polars Eagar\", \"Operation\": \"GroupBy\", \"Rows\": rows, \"MeanTime\": polars_eager_groupby_time})\n",
    "\n",
    "    # add code to call new operation here\n",
    "\n",
    "    # --- Polars LazyFrame Benchmark ---\n",
    "    polars_lf = pl.LazyFrame(test_data)\n",
    "    polars_lf_groupby_time = np.mean(Timer(lambda: groupby_polars_lazyframe(polars_lf)).repeat(repeat=n_runs, number=1))\n",
    "    results.append({\"Library\": \"Polars LazyFrame\", \"Operation\": \"GroupBy\", \"Rows\": rows, \"MeanTime\": polars_lf_groupby_time})\n",
    "\n",
    "    # add code to call new operation here\n",
    "\n",
    "    print(\"-----------\")\n",
    "print(\"Benchmark finished.\")\n",
    "results_df = pd.DataFrame(results)\n"
   ]
  },
  {
   "cell_type": "code",
   "execution_count": 12,
   "id": "6d1c0cdc-5ab1-4014-8293-ef259b11f9b0",
   "metadata": {},
   "outputs": [
    {
     "data": {
      "text/html": [
       "<div>\n",
       "<style scoped>\n",
       "    .dataframe tbody tr th:only-of-type {\n",
       "        vertical-align: middle;\n",
       "    }\n",
       "\n",
       "    .dataframe tbody tr th {\n",
       "        vertical-align: top;\n",
       "    }\n",
       "\n",
       "    .dataframe thead th {\n",
       "        text-align: right;\n",
       "    }\n",
       "</style>\n",
       "<table border=\"1\" class=\"dataframe\">\n",
       "  <thead>\n",
       "    <tr style=\"text-align: right;\">\n",
       "      <th></th>\n",
       "      <th>Library</th>\n",
       "      <th>Operation</th>\n",
       "      <th>Rows</th>\n",
       "      <th>MeanTime</th>\n",
       "    </tr>\n",
       "  </thead>\n",
       "  <tbody>\n",
       "    <tr>\n",
       "      <th>0</th>\n",
       "      <td>Pandas</td>\n",
       "      <td>GroupBy</td>\n",
       "      <td>100000</td>\n",
       "      <td>0.010741</td>\n",
       "    </tr>\n",
       "    <tr>\n",
       "      <th>1</th>\n",
       "      <td>Polars Eagar</td>\n",
       "      <td>GroupBy</td>\n",
       "      <td>100000</td>\n",
       "      <td>0.003816</td>\n",
       "    </tr>\n",
       "    <tr>\n",
       "      <th>2</th>\n",
       "      <td>Polars LazyFrame</td>\n",
       "      <td>GroupBy</td>\n",
       "      <td>100000</td>\n",
       "      <td>0.001915</td>\n",
       "    </tr>\n",
       "    <tr>\n",
       "      <th>3</th>\n",
       "      <td>Pandas</td>\n",
       "      <td>GroupBy</td>\n",
       "      <td>1000000</td>\n",
       "      <td>0.107789</td>\n",
       "    </tr>\n",
       "    <tr>\n",
       "      <th>4</th>\n",
       "      <td>Polars Eagar</td>\n",
       "      <td>GroupBy</td>\n",
       "      <td>1000000</td>\n",
       "      <td>0.014034</td>\n",
       "    </tr>\n",
       "    <tr>\n",
       "      <th>5</th>\n",
       "      <td>Polars LazyFrame</td>\n",
       "      <td>GroupBy</td>\n",
       "      <td>1000000</td>\n",
       "      <td>0.014061</td>\n",
       "    </tr>\n",
       "    <tr>\n",
       "      <th>6</th>\n",
       "      <td>Pandas</td>\n",
       "      <td>GroupBy</td>\n",
       "      <td>10000000</td>\n",
       "      <td>2.003312</td>\n",
       "    </tr>\n",
       "    <tr>\n",
       "      <th>7</th>\n",
       "      <td>Polars Eagar</td>\n",
       "      <td>GroupBy</td>\n",
       "      <td>10000000</td>\n",
       "      <td>0.282951</td>\n",
       "    </tr>\n",
       "    <tr>\n",
       "      <th>8</th>\n",
       "      <td>Polars LazyFrame</td>\n",
       "      <td>GroupBy</td>\n",
       "      <td>10000000</td>\n",
       "      <td>0.227520</td>\n",
       "    </tr>\n",
       "  </tbody>\n",
       "</table>\n",
       "</div>"
      ],
      "text/plain": [
       "            Library Operation      Rows  MeanTime\n",
       "0            Pandas   GroupBy    100000  0.010741\n",
       "1      Polars Eagar   GroupBy    100000  0.003816\n",
       "2  Polars LazyFrame   GroupBy    100000  0.001915\n",
       "3            Pandas   GroupBy   1000000  0.107789\n",
       "4      Polars Eagar   GroupBy   1000000  0.014034\n",
       "5  Polars LazyFrame   GroupBy   1000000  0.014061\n",
       "6            Pandas   GroupBy  10000000  2.003312\n",
       "7      Polars Eagar   GroupBy  10000000  0.282951\n",
       "8  Polars LazyFrame   GroupBy  10000000  0.227520"
      ]
     },
     "execution_count": 12,
     "metadata": {},
     "output_type": "execute_result"
    }
   ],
   "source": [
    "results_df"
   ]
  },
  {
   "cell_type": "markdown",
   "id": "1baa15e0-ee2a-4359-b234-f6bbcad3f24f",
   "metadata": {},
   "source": [
    "## Bar Plot"
   ]
  },
  {
   "cell_type": "code",
   "execution_count": 13,
   "id": "8f522a0c-d8a5-494a-9049-3d07cda84330",
   "metadata": {},
   "outputs": [
    {
     "name": "stdout",
     "output_type": "stream",
     "text": [
      "file saved to benchmarking_groupby_8threads.png\n"
     ]
    },
    {
     "data": {
      "image/png": "[encoded data removed]",
      "text/plain": [
       "<Figure size 800x600 with 1 Axes>"
      ]
     },
     "metadata": {},
     "output_type": "display_data"
    }
   ],
   "source": [
    "def plot_benchmarks(df, operation_name, thread_count):\n",
    "    \"\"\"Creates and saves a bar plot of the benchmark results.\"\"\"\n",
    "    plt.style.use('seaborn-v0_8-whitegrid')\n",
    "    fig, ax = plt.subplots(figsize=(8, 6))\n",
    "\n",
    "    op_df = df[df[\"Operation\"] == operation_name]\n",
    "    op_df['Rows_Category'] = op_df['Rows'].astype(str)\n",
    "\n",
    "    sns.barplot(\n",
    "        data=op_df,\n",
    "        x=\"Rows_Category\",\n",
    "        y=\"MeanTime\",\n",
    "        hue=\"Library\",\n",
    "        ax=ax,\n",
    "        palette=\"viridis\",\n",
    "        errorbar=None\n",
    "    )\n",
    "\n",
    "    ax.set_title(f\"performance benchmark: {operation_name.lower()} operation, with {thread_count} threads\", fontsize=16)\n",
    "    ax.set_xlabel(\"Number of Rows\", fontsize=12)\n",
    "    ax.set_ylabel(\"Mean Execution Time in Seconds\", fontsize=12)\n",
    "    ax.grid(True, axis=\"x\", which=\"minor\", ls=\"--\")\n",
    "    ax.set_ylim([0, 2.5])\n",
    "    plt.legend(title=\"DataFrame Type\")\n",
    "    plt.tight_layout()\n",
    "    plt.savefig(f\"benchmarking_{operation_name.lower()}_{thread_count}threads.png\")\n",
    "    print(f\"file saved to benchmarking_{operation_name.lower()}_{thread_count}threads.png\")\n",
    "\n",
    "# Create and save the plot\n",
    "plot_benchmarks(\n",
    "    df=results_df,\n",
    "    operation_name=\"GroupBy\",\n",
    "    thread_count=THREAD_COUNT,\n",
    ")\n",
    "\n",
    "## create plot for your new operation:\n",
    "# plot_benchmarks(\n",
    "#     df=results_df,\n",
    "#     operation_name=\"blah\",\n",
    "#     thread_count=THREAD_COUNT,\n",
    "# )"
   ]
  },
  {
   "cell_type": "code",
   "execution_count": null,
   "id": "7c507568-c922-4517-9c01-44f54e8bb4e6",
   "metadata": {},
   "outputs": [],
   "source": []
  }
 ],
 "metadata": {
  "kernelspec": {
   "display_name": "Python 3 (ipykernel)",
   "language": "python",
   "name": "python3"
  },
  "language_info": {
   "codemirror_mode": {
    "name": "ipython",
    "version": 3
   },
   "file_extension": ".py",
   "mimetype": "text/x-python",
   "name": "python",
   "nbconvert_exporter": "python",
   "pygments_lexer": "ipython3",
   "version": "3.12.9"
  }
 },
 "nbformat": 4,
 "nbformat_minor": 5
}
