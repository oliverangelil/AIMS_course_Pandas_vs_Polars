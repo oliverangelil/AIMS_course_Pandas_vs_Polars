{
 "cells": [
  {
   "cell_type": "markdown",
   "id": "72792aeb-aca0-4514-a2cc-f801169521f2",
   "metadata": {},
   "source": [
    "## {insert names of team members}\n",
    "*\n",
    "*\n",
    "*"
   ]
  },
  {
   "cell_type": "code",
   "execution_count": null,
   "id": "1d8a1682-9f9d-492a-84c6-64c28cc12228",
   "metadata": {},
   "outputs": [],
   "source": [
    "# !uv pip list"
   ]
  },
  {
   "cell_type": "code",
   "execution_count": null,
   "id": "ac428d52-d40b-4b02-a01a-7114c1ec7c6b",
   "metadata": {},
   "outputs": [],
   "source": [
    "import os\n",
    "import pandas as pd\n",
    "import polars as pl\n",
    "import numpy as np\n",
    "from timeit import Timer"
   ]
  },
  {
   "cell_type": "code",
   "execution_count": null,
   "id": "c6bde1fb-8cb3-409a-8153-91f0cbadbb49",
   "metadata": {},
   "outputs": [],
   "source": [
    "num_cores = os.cpu_count()\n",
    "print(num_cores)"
   ]
  },
  {
   "cell_type": "markdown",
   "id": "9823d543-c9af-4d42-be0f-e36a91986267",
   "metadata": {},
   "source": [
    "# limit the total number of threads used with POLARS_MAX_THREADS\n",
    "#### first, start with the default (commented out)\n",
    "#### then, set it to 1"
   ]
  },
  {
   "cell_type": "code",
   "execution_count": null,
   "id": "65a7bc6f-ef21-4603-af39-02081ea0fe70",
   "metadata": {},
   "outputs": [],
   "source": [
    "# os.environ['POLARS_MAX_THREADS'] = '1'  # kernel must be restarted to overwrite existing env variable"
   ]
  },
  {
   "cell_type": "code",
   "execution_count": null,
   "id": "ae13b475-00db-472e-9a95-ba8be1b3600b",
   "metadata": {},
   "outputs": [],
   "source": [
    "pl.thread_pool_size()"
   ]
  },
  {
   "cell_type": "markdown",
   "id": "4e5a3a05-ab4e-46eb-b767-7bfc49db7231",
   "metadata": {},
   "source": [
    "# Generate dummy data"
   ]
  },
  {
   "cell_type": "code",
   "execution_count": null,
   "id": "d6b66d0c-b05f-4736-94c8-78028ecd839d",
   "metadata": {},
   "outputs": [],
   "source": [
    "def generate_data(number_of_rows):\n",
    "    rng = np.random.default_rng()\n",
    "\n",
    "    return {\n",
    "        \"order_id\": range(1, number_of_rows + 1),\n",
    "        \"region\": rng.choice(\n",
    "            [\"North\", \"South\", \"East\", \"West\"], size=number_of_rows\n",
    "        ),\n",
    "        \"sales_person\": rng.choice(\n",
    "            [\"Armstrong\", \"Aldrin\", \"Collins\"], size=number_of_rows\n",
    "        ),\n",
    "        \"product\": rng.choice(\n",
    "            [\"Helmet\", \"Oxygen\", \"Boots\", \"Gloves\"], size=number_of_rows\n",
    "        ),\n",
    "        \"sales_income\": np.ones(number_of_rows),\n",
    "    }"
   ]
  },
  {
   "cell_type": "markdown",
   "id": "dd27937d-29b2-44ad-ae68-28d8b1d23878",
   "metadata": {},
   "source": [
    "# Define DataFrame Creation Functions"
   ]
  },
  {
   "cell_type": "code",
   "execution_count": null,
   "id": "48f5c483-444f-4356-a7c1-59219633382a",
   "metadata": {},
   "outputs": [],
   "source": [
    "def create_pandas_dataframe(test_data):\n",
    "    return pd.DataFrame(test_data)\n",
    "\n",
    "def create_polars_dataframe(test_data):\n",
    "    return pl.DataFrame(test_data)\n",
    "\n",
    "def create_polars_lazyframe(test_data):\n",
    "    return pl.LazyFrame(test_data)"
   ]
  },
  {
   "cell_type": "markdown",
   "id": "efabf558-2fce-4c14-8758-f5d86083a0ce",
   "metadata": {},
   "source": [
    "# Display First 10 rows"
   ]
  },
  {
   "cell_type": "code",
   "execution_count": null,
   "id": "51e3413c-5922-497b-9057-fc550ffb22d5",
   "metadata": {},
   "outputs": [],
   "source": [
    "display_data = generate_data(10)\n",
    "create_pandas_dataframe(display_data)"
   ]
  },
  {
   "cell_type": "markdown",
   "id": "d812ba01-5307-4182-abb3-267dac1515e8",
   "metadata": {},
   "source": [
    "# Create DataFrames & Print Memory Consumption "
   ]
  },
  {
   "cell_type": "code",
   "execution_count": null,
   "id": "d904ae00-01e5-441e-b6db-2806cfd2d9ee",
   "metadata": {},
   "outputs": [],
   "source": [
    "test_data = generate_data(number_of_rows=100000)\n",
    "\n",
    "# Timing for GroupBy operations\n",
    "# pandas\n",
    "pandas_df = create_pandas_dataframe(test_data)\n",
    "size_bytes = pandas_df.memory_usage(index=True).sum()\n",
    "size_mb = size_bytes / (1024 ** 2)\n",
    "print(f\"Pandas DataFrame size: {size_mb:.2f} MB\")\n",
    "\n",
    "# polars eager dataframe\n",
    "polars_df = create_polars_dataframe(test_data)\n",
    "size_bytes = polars_df.estimated_size()\n",
    "size_mb = size_bytes / (1024 ** 2)\n",
    "print(f\"Polars Eager DataFrame size: {size_mb:.2f} MB\")\n",
    "\n",
    "# polars lazyframe \n",
    "polars_lf = create_polars_lazyframe(test_data)\n"
   ]
  },
  {
   "cell_type": "markdown",
   "id": "28bc9b13-2308-490a-8078-ec784d91afa3",
   "metadata": {},
   "source": [
    "# Define groupby & agg functions (can be parallelized)"
   ]
  },
  {
   "cell_type": "code",
   "execution_count": null,
   "id": "f17a66a9-f362-4891-aeaa-cd9a3bb7cfce",
   "metadata": {},
   "outputs": [],
   "source": [
    "def groupby_pandas_dataframe(pandas_df):\n",
    "    return pandas_df.groupby([\"region\", \"product\", \"sales_person\"])[\n",
    "        \"sales_income\"\n",
    "    ].sum()\n",
    "\n",
    "def groupby_polars_dataframe(polars_df):\n",
    "    return polars_df.group_by([\"region\", \"product\", \"sales_person\"]).agg(\n",
    "        total_sales=pl.col(\"sales_income\").sum()\n",
    "    )\n",
    "\n",
    "def groupby_polars_lazyframe(polars_lf):\n",
    "    return polars_lf.group_by([\"region\", \"product\", \"sales_person\"]).agg(\n",
    "        total_sales=pl.col(\"sales_income\").sum()\n",
    "    ).collect()"
   ]
  },
  {
   "cell_type": "markdown",
   "id": "4a435295-13f7-4f2f-96be-1609f22d0512",
   "metadata": {},
   "source": [
    "# Run Groupby BenchMarking (can be parallelized) "
   ]
  },
  {
   "cell_type": "code",
   "execution_count": null,
   "id": "a5c32d24-3a82-4e0e-a3eb-3887ae4700dc",
   "metadata": {},
   "outputs": [],
   "source": [
    "pandas_timer = Timer(lambda: groupby_pandas_dataframe(pandas_df))\n",
    "print(f\"Pandas Analysis Time: {pandas_timer.timeit(number=100):.6f} seconds\")\n",
    "\n",
    "polars_timer = Timer(lambda: groupby_polars_dataframe(polars_df))\n",
    "print(f\"Polars Analysis Time: {polars_timer.timeit(number=100):.6f} seconds\")\n",
    "\n",
    "polars_lazyframe_timer = Timer(lambda: groupby_polars_lazyframe(polars_lf))\n",
    "print(f\"Polars LazyFrame Analysis Time: {polars_lazyframe_timer.timeit(number=100):.6f} seconds\")"
   ]
  },
  {
   "cell_type": "markdown",
   "id": "a9600792-6cf5-475a-b04f-66e65e95b9f7",
   "metadata": {},
   "source": [
    "## {Insert a new operation to benchmark that can also be parallelized}"
   ]
  },
  {
   "cell_type": "code",
   "execution_count": null,
   "id": "602917b2-1ecb-4e99-b40e-507c874549f5",
   "metadata": {},
   "outputs": [],
   "source": [
    "# your code"
   ]
  },
  {
   "cell_type": "markdown",
   "id": "12efa04e-58bd-4106-aab0-8790ecaf140b",
   "metadata": {},
   "source": [
    "## {Insert a new operation to benchmark that can _not_ be parallelized}"
   ]
  },
  {
   "cell_type": "code",
   "execution_count": null,
   "id": "8c867a65-fd4e-4fd4-af4c-186bf8b95489",
   "metadata": {},
   "outputs": [],
   "source": [
    "# your code"
   ]
  },
  {
   "cell_type": "markdown",
   "id": "21e933aa-05a5-4d46-bdf7-1137558bff42",
   "metadata": {},
   "source": [
    "## {Insert benchmark figures comparing mean (of 100 runs)}\n",
    "### consider adding error bars for std of your 100 runs"
   ]
  },
  {
   "cell_type": "code",
   "execution_count": null,
   "id": "2ba531ac-55a0-4a91-8749-aabc9efc56f5",
   "metadata": {},
   "outputs": [],
   "source": [
    "# your code"
   ]
  },
  {
   "cell_type": "code",
   "execution_count": null,
   "id": "7c507568-c922-4517-9c01-44f54e8bb4e6",
   "metadata": {},
   "outputs": [],
   "source": []
  }
 ],
 "metadata": {
  "kernelspec": {
   "display_name": "Python 3 (ipykernel)",
   "language": "python",
   "name": "python3"
  },
  "language_info": {
   "codemirror_mode": {
    "name": "ipython",
    "version": 3
   },
   "file_extension": ".py",
   "mimetype": "text/x-python",
   "name": "python",
   "nbconvert_exporter": "python",
   "pygments_lexer": "ipython3",
   "version": "3.12.9"
  }
 },
 "nbformat": 4,
 "nbformat_minor": 5
}
